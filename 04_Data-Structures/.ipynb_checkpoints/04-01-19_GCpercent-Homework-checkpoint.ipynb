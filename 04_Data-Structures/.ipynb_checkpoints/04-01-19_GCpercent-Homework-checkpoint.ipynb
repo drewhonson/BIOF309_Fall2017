{
 "cells": [
  {
   "cell_type": "markdown",
   "metadata": {},
   "source": [
    "# Week 2 Homework\n",
    "\n",
    "We have seen this week how to print and manipulate text string in python. Lets use the skills we have learned to write a program to calculate the GC percentage of a DNA sequence. Recall that the GC percentage of a DNA sequence can be a sign that we are looking at a gene."
   ]
  },
  {
   "cell_type": "markdown",
   "metadata": {},
   "source": [
    "To create a repo for this assignment, please click [this link](https://classroom.github.com/a/XrlyUiUr)."
   ]
  },
  {
   "cell_type": "markdown",
   "metadata": {},
   "source": [
    "### Pseudocode\n",
    "\n",
    "Pseudocode is the term used to describe a draft outline of a program written in plain English (or whatever language you write it in :-) ). We use pseudocode to discuss the functionality of the program as well as key elements in the program. Starting a program by using pseudocode can help to get your logic down quickly without having to be concerned with hte exact details or syntax of the programming language."
   ]
  },
  {
   "cell_type": "markdown",
   "metadata": {},
   "source": [
    "### Write a python program to calculate GC percentage"
   ]
  },
  {
   "cell_type": "code",
   "execution_count": 1,
   "metadata": {},
   "outputs": [],
   "source": [
    "# This sequence is the first 100 nucleotides of the Influenza H1N1 Virus segment 8\n",
    "\n",
    "flu_ns1_seq = 'GTGACAAAGACATAATGGATCCAAACACTGTGTCAAGCTTTCAGGTAGATTGCTTTCTTTGGCATGTCCGCAAACGAGTTGCAGACCAAGAACTAGGTGA'"
   ]
  },
  {
   "cell_type": "markdown",
   "metadata": {},
   "source": [
    "Pseudocode:\n",
    "- Count the number of \"C\"s in the above sequence\n",
    "- Count the number of \"G\"s in the above sequence\n",
    "- Add \"C\" and \"G\" counts together\n",
    "- Count the total number of nucleotides in the sequence\n",
    "- Divide the total number of \"C\" and \"G\" nucleotides by the total number of nucleotides\n",
    "- Print the percentage\n",
    "\n",
    "NOTE: Please get into the good habit of commenting your code and describing what you are going to do or are doing. There must be at least one comment in your code."
   ]
  },
  {
   "cell_type": "code",
   "execution_count": 8,
   "metadata": {},
   "outputs": [
    {
     "name": "stdout",
     "output_type": "stream",
     "text": [
      "Please enter sequence into GC calculator: atcgatgctatgctagctagctagtca\n",
      "The sequence you enter is: ATCTGATCGATCGTA\n"
     ]
    },
    {
     "data": {
      "text/plain": [
       "44.44444444444444"
      ]
     },
     "execution_count": 8,
     "metadata": {},
     "output_type": "execute_result"
    }
   ],
   "source": [
    "# Write your code here (if you wish)\n",
    "\n",
    "seq_raw = input(\"Please enter sequence into GC calculator: \")\n",
    "\n",
    "print(\"The sequence you enter is: \" + seq)\n",
    "\n",
    "seq = seq_raw.upper()\n",
    "\n",
    "g_count = seq.count(\"G\")\n",
    "c_count = seq.count(\"C\")\n",
    "\n",
    "gc_count = g_count + c_count\n",
    "\n",
    "seq_len = len(seq)\n",
    "\n",
    "gc_percent = gc_count / seq_len * 100\n",
    "\n",
    "gc_percent\n"
   ]
  },
  {
   "cell_type": "markdown",
   "metadata": {},
   "source": [
    "If you would like to create a file with your source code, paste it in the cell below and run. __Please remember__ to add your name to the file."
   ]
  },
  {
   "cell_type": "code",
   "execution_count": null,
   "metadata": {
    "collapsed": true
   },
   "outputs": [],
   "source": [
    "%%writefile GC_calculator.py\n",
    "\n",
    "#Paste Code here"
   ]
  },
  {
   "cell_type": "markdown",
   "metadata": {},
   "source": [
    "Note: Later in the course we will look at the [biopython](https://github.com/biopython/biopython.github.io/) package that included the capability to compute CG percentage."
   ]
  }
 ],
 "metadata": {
  "anaconda-cloud": {},
  "kernelspec": {
   "display_name": "Python 3",
   "language": "python",
   "name": "python3"
  },
  "language_info": {
   "codemirror_mode": {
    "name": "ipython",
    "version": 3
   },
   "file_extension": ".py",
   "mimetype": "text/x-python",
   "name": "python",
   "nbconvert_exporter": "python",
   "pygments_lexer": "ipython3",
   "version": "3.6.3"
  }
 },
 "nbformat": 4,
 "nbformat_minor": 1
}
