{
 "cells": [
  {
   "cell_type": "markdown",
   "metadata": {
    "button": false,
    "new_sheet": false,
    "run_control": {
     "read_only": false
    }
   },
   "source": [
    "# Week 5 Homework"
   ]
  },
  {
   "cell_type": "markdown",
   "metadata": {
    "button": false,
    "new_sheet": false,
    "run_control": {
     "read_only": false
    }
   },
   "source": [
    "---"
   ]
  },
  {
   "cell_type": "markdown",
   "metadata": {
    "button": false,
    "new_sheet": false,
    "run_control": {
     "read_only": false
    }
   },
   "source": [
    "### 1. Write a function _cubed()_ that uses the power() function to compute the cube (power of 3) of a number. \n",
    "### 2. Write a python script to cube the values in the _input.txt_ file and save it as _cubed.txt_"
   ]
  },
  {
   "cell_type": "markdown",
   "metadata": {
    "button": false,
    "new_sheet": false,
    "run_control": {
     "read_only": false
    }
   },
   "source": [
    "Your code must:\n",
    "\n",
    "- Have a function named `cube()`\n",
    "- The cubed function must:\n",
    "    - Take only one parameter, the number to be cubed\n",
    "    - Return the cubed number\n",
    "    - Call the comp_power() function below (it cannot cube the number on its' own)\n",
    "- Open the input file _input.txt_\n",
    "- Loop through each value in the input file\n",
    "- Calculate the cube of each number using your function `cube()`\n",
    "- Save the cubed value to the _cubed.txt_ output file\n",
    "\n",
    "Please submit your python code as as a python script (`.py`) or as a notebook (`.ipynb`) to GitHub classroom.\n",
    "To create the homework repo, please click [this link](https://classroom.github.com/a/iUdDBNnA).\n"
   ]
  },
  {
   "cell_type": "code",
   "execution_count": 18,
   "metadata": {
    "button": false,
    "collapsed": true,
    "new_sheet": false,
    "run_control": {
     "read_only": false
    }
   },
   "outputs": [],
   "source": [
    "# This is the comp_power function\n",
    "\n",
    "def comp_power(x, y):\n",
    "    value = x**y\n",
    "    return value"
   ]
  },
  {
   "cell_type": "code",
   "execution_count": null,
   "metadata": {
    "button": false,
    "collapsed": true,
    "new_sheet": false,
    "run_control": {
     "read_only": false
    }
   },
   "outputs": [],
   "source": []
  }
 ],
 "metadata": {
  "anaconda-cloud": {},
  "kernelspec": {
   "display_name": "Python 3",
   "language": "python",
   "name": "python3"
  },
  "language_info": {
   "codemirror_mode": {
    "name": "ipython",
    "version": 3
   },
   "file_extension": ".py",
   "mimetype": "text/x-python",
   "name": "python",
   "nbconvert_exporter": "python",
   "pygments_lexer": "ipython3",
   "version": "3.6.3"
  }
 },
 "nbformat": 4,
 "nbformat_minor": 1
}
